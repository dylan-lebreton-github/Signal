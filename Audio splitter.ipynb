{
 "cells": [
  {
   "cell_type": "markdown",
   "metadata": {
    "slideshow": {
     "slide_type": "slide"
    }
   },
   "source": [
    "# 3 - Séparation de sources"
   ]
  },
  {
   "cell_type": "code",
   "execution_count": null,
   "metadata": {
    "slideshow": {
     "slide_type": "skip"
    }
   },
   "outputs": [],
   "source": [
    "# Imports\n",
    "from __future__ import division\n",
    "from IPython.display import Audio, display\n",
    "import numpy as np\n",
    "import scipy as scp\n",
    "import pylab as pyl\n",
    "from matplotlib import cm\n",
    "import matplotlib.pyplot as plt\n",
    "import pywt\n",
    "import holoviews as hv\n",
    "hv.extension('bokeh')\n",
    "import scipy.io as sio\n",
    "from scipy import fftpack\n",
    "from matplotlib.pyplot import imshow as imageplot\n",
    "from mpl_toolkits.mplot3d import Axes3D\n",
    "import wave\n",
    "import warnings\n",
    "from scipy.io.wavfile import read\n",
    "import panel as pn\n",
    "warnings.filterwarnings('ignore')\n",
    "import logging\n",
    "\n",
    "logging.getLogger(\"param\").setLevel(logging.CRITICAL)"
   ]
  },
  {
   "cell_type": "markdown",
   "metadata": {
    "slideshow": {
     "slide_type": "slide"
    }
   },
   "source": [
    "Le but de ce TP est de réaliser un programme python qui effectue une séparation de sources. Plus précisément un programme qui prend en entrée un son stéréophonique, mélange instantané de plusieurs sources sonores (ici des instruments de musique) et qui renvoie plusieurs sons stéréophoniques. On utilisera la transformée de Fourier à court terme (TFCT), ou transformée de Fourier à fenêtres, vue lors du TP précédent. \n",
    "\n",
    "On va utiliser le fait que, la plupart du temps, deux instruments ne jouent pas la même note au même moment et on va segmenter les spectrogrammes des deux canaux de manière à attribuer chaque atome temps-fréquence à un instrument, en fonction du rapport d'intensité entre les deux canaux, qui est supposé caractérisé chaque instrument.\n",
    "Le TP se décompose en trois parties.\n",
    "\n",
    "1) On considère un mélange de seulement deux instruments et on fait l'hypothèse que l'on connait les coefficients du mélange.\n",
    "\n",
    "2) On considère un mélange de trois instruments et on fait l'hypothèse que l'on connait les coefficients du mélange.\n",
    "\n",
    "3) On considère le même mélange de trois instruments mais cette fois ci on estime les coefficients de mélange.\n",
    "\n"
   ]
  },
  {
   "cell_type": "markdown",
   "metadata": {
    "slideshow": {
     "slide_type": "slide"
    }
   },
   "source": [
    "Cette classe channel possède des fonctions qui permettent de manipuler le son. Notamment, celle qui permet d'avoir la transformée de fourier à court terme et celle permettant de faire la reconstruction du son"
   ]
  },
  {
   "cell_type": "code",
   "execution_count": null,
   "metadata": {
    "slideshow": {
     "slide_type": "slide"
    }
   },
   "outputs": [],
   "source": [
    "# Définition des fonctions TFCourtTerme et RecSon\n",
    "# On définit ces fonctions dans une classe Channel qui sera complétée au fur et à mesure du notebook\n",
    "\n",
    "class Channel():\n",
    "\n",
    "    # TFCourtTerme permet d'obtenir le tableau de transformée de Fourier à fenêtre d'un son\n",
    "    # N représente la taille d'une fenêtre et rec le facteur de recouvrmenet des fenêtres\n",
    "    @staticmethod\n",
    "    def TFCourtTerme(Son,N:int=1024,rec:int=8):\n",
    "        H=np.hanning(N)\n",
    "        NS=len(Son)\n",
    "        Nf=int(np.floor(rec*NS/N)-rec+1)\n",
    "        TF=np.zeros((N,Nf),dtype=complex)\n",
    "        for k in range(0,Nf):\n",
    "            d=int(k*N/rec)\n",
    "            f=d+N\n",
    "            TF[:,k]=fftpack.fft(Son[d:f]*H)\n",
    "        return TF\n",
    "\n",
    "\n",
    "    # RecSon permet de ré-obtenir un vecteur représentant un son à partir d'un tableau de transformée de Fourier à fenêtre.\n",
    "    # rec représente le facteur de recouvremnet utilisé lors de l'application de la transformée de Fourier à fenêtre\n",
    "    @staticmethod\n",
    "    def RecSon(TF,rec:int=8):\n",
    "        N=np.shape(TF)[0]\n",
    "        Nf=np.shape(TF)[1]\n",
    "        H=np.hanning(N)\n",
    "        Ns = int((N/rec)*(Nf+rec-0.5))\n",
    "        Son= np.zeros(Ns,dtype=complex)\n",
    "        for k in range(0,Nf):\n",
    "            d=int(k*N/rec)\n",
    "            f=d+N      \n",
    "            Son[d:d+N]+=fftpack.ifft(TF[:,k])*H\n",
    "        return Son"
   ]
  },
  {
   "cell_type": "code",
   "execution_count": null,
   "metadata": {},
   "outputs": [],
   "source": [
    "# On définit une classe channel qui hérite d'elle-même pour pouvoir ajouter des méthodes\n",
    "class Channel(Channel):\n",
    "    def __init__(self, audio_path:str, sound_vector:np.array = None, channel_number:int=None):\n",
    "        \n",
    "        self.path = audio_path\n",
    "        \n",
    "        if audio_path is not None:\n",
    "            self.vector = read(self.path)[1]\n",
    "            self.sampling_frequency = read(self.path)[0]\n",
    "        elif sound_vector is not None:\n",
    "            self.vector = sound_vector\n",
    "            self.sampling_frequency = 44100 # arbitrary value\n",
    "        else:\n",
    "            raise ValueError\n",
    "        self.number = channel_number\n",
    "        if self.number is not None:\n",
    "            self.name = \"channel {} ({})\".format(self.number, self.path)\n",
    "        else:\n",
    "            self.name = \"channel ({})\".format(self.path)\n",
    "            \n",
    "    def __str__(self):\n",
    "        return \"File : {} (number = {})\\n{}\\nSampling frequency : {}\".format(self.path, self.number, self.vector, self.sampling_frequency)\n",
    "        \n",
    "    def read(self, msg:str=None):\n",
    "        if msg is None:\n",
    "            print(\"Écoute de : {}\".format(self.name))\n",
    "        else:\n",
    "            print(msg)\n",
    "        display(Audio(self.vector, rate=self.sampling_frequency))\n",
    "    \n",
    "    def spectrogram(self, N:int = 1024, rec:int = 8, zoom:int = 100, width:int = 800, height:int = 300):        \n",
    "        TF = self.TFCourtTerme(self.vector, N, rec)\n",
    "        if zoom is not None:\n",
    "            spectrum = np.abs(TF)[0:zoom,:]\n",
    "        else:\n",
    "            spectrum = np.abs(TF)\n",
    "        return hv.Image(spectrum).opts(**dict(width=width,height=height,xaxis=None,yaxis=None,title=self.name))\n",
    "    \n",
    "# On définit une classe son nous aidant à manipuler et afficher les voix\n",
    "class Son():\n",
    "    def __init__(self, *args):\n",
    "        self.channels = []\n",
    "        counter = 1\n",
    "        for channel_path in args:\n",
    "            self.channels.append(Channel(channel_path, channel_number=counter))\n",
    "            counter += 1\n",
    "\n",
    "    def __str__(self):\n",
    "        result = \"\"\n",
    "        for channel in self.channels:\n",
    "            result += channel.__str__() + \"\\n\\n\"\n",
    "        return result\n",
    "    \n",
    "    def __getitem__(self, item_number):\n",
    "        return self.channels[item_number-1]\n",
    "\n",
    "    def spectrograms(self, N:int = 1024, rec:int = 8, zoom:int = 100):\n",
    "        specs = []\n",
    "        for channel in self.channels:\n",
    "            specs.append(channel.spectrogram(N, rec, zoom, height=200))\n",
    "        return pn.Column(*tuple(specs))"
   ]
  },
  {
   "cell_type": "markdown",
   "metadata": {
    "slideshow": {
     "slide_type": "slide"
    }
   },
   "source": [
    "## Séparation de deux instruments"
   ]
  },
  {
   "cell_type": "markdown",
   "metadata": {
    "slideshow": {
     "slide_type": "slide"
    }
   },
   "source": [
    "A l'aide la fonction read, nous avons chargé dans deux vecteurs différents $V1$ et $V2$ les sons Mix11.wav et Mix21.wav et afficher les tranformées de Fourier à fenêtres de chacune des deux voix (on utilisera TFCourtTerme).\n",
    "On pourra afficher les basses fréquences pour mieux voir.\n",
    "On fait l'hypothèse que les voix 1 et 2 (dites V1 et V2 ) est obtenue à partir des deux sources S1 et S2 de la manière suivante :\n",
    "$$V_1=\\frac{1}{3}S_1+\\frac{2}{3}S_2\\text{ et }V_2=\\frac{2}{3}S_1+\\frac{1}{3}S_2$$\n",
    "Vous devriez voir les traces des deux instruments qui diffèrent par leur structure."
   ]
  },
  {
   "cell_type": "markdown",
   "metadata": {
    "slideshow": {
     "slide_type": "slide"
    }
   },
   "source": [
    "#### Chargement des deux Voies"
   ]
  },
  {
   "cell_type": "code",
   "execution_count": null,
   "metadata": {
    "slideshow": {
     "slide_type": "slide"
    }
   },
   "outputs": [],
   "source": [
    "son = Son(r\"./sons/Mix11.wav\", r\"./sons/Mix21.wav\")"
   ]
  },
  {
   "cell_type": "markdown",
   "metadata": {
    "slideshow": {
     "slide_type": "slide"
    }
   },
   "source": [
    "#### Affichage du spectogramme"
   ]
  },
  {
   "cell_type": "code",
   "execution_count": null,
   "metadata": {
    "slideshow": {
     "slide_type": "slide"
    }
   },
   "outputs": [],
   "source": [
    "son.spectrograms(zoom=10)\n"
   ]
  },
  {
   "cell_type": "markdown",
   "metadata": {
    "slideshow": {
     "slide_type": "slide"
    }
   },
   "source": [
    "<u>Commentaire</u> :\n",
    "Les deux spectrogrammes nous permettent à priori de distinguer approximativement les deux instruments : la batterie, aux notes plus saccadées, et la guitare, dont les notes sont tenus plus longtemps. Partant de cette distinction, on remarque alors assez bien que l'intensité de la guitare est plus élevée dans le canal 1, celle de la batterie dans le canal 2."
   ]
  },
  {
   "cell_type": "markdown",
   "metadata": {
    "slideshow": {
     "slide_type": "slide"
    }
   },
   "source": [
    "#### Codage de la fonction de sépartion"
   ]
  },
  {
   "cell_type": "markdown",
   "metadata": {
    "slideshow": {
     "slide_type": "slide"
    }
   },
   "source": [
    "Pour ce qui est de la fonction de sépatation, on regarde le rapport point par point des spectogrammes. Si ce rapport est supérieur à un certain seuil on attribue ce coefficient à l'instrument 1, sinon à l'instrument 2. On reconstruit ensuite les TFCT en utilisant les phases des voix 1 et 2."
   ]
  },
  {
   "cell_type": "code",
   "execution_count": null,
   "metadata": {
    "slideshow": {
     "slide_type": "subslide"
    }
   },
   "outputs": [],
   "source": [
    "class Channel(Channel):\n",
    "    \n",
    "    def TF(self, N:int=1024, rec:int=8):\n",
    "        return self.TFCourtTerme(self.vector,N,rec)\n",
    "    \n",
    "class Son(Son):\n",
    "    \n",
    "    @staticmethod\n",
    "    def Separation2Instru(TFCT1, TFCT2, T):\n",
    "        \n",
    "        if TFCT1.shape != TFCT2.shape:\n",
    "            raise ValueError('Parameters must have same size.')\n",
    "            \n",
    "        spec1 = np.abs(TFCT1)\n",
    "        spec2 = np.abs(TFCT2)\n",
    "        \n",
    "        spec11 = np.zeros(spec1.shape)\n",
    "        spec12 = np.zeros(spec1.shape)\n",
    "        spec21 = np.zeros(spec2.shape)\n",
    "        spec22 = np.zeros(spec2.shape)\n",
    "        \n",
    "        for row in range(spec1.shape[0]):\n",
    "            for col in range(spec1.shape[1]):\n",
    "                if spec1[row, col] >= T * spec2[row, col]:\n",
    "                    spec11[row, col] = spec1[row, col]\n",
    "                    spec21[row, col] = spec2[row, col]\n",
    "                else:\n",
    "                    spec12[row, col] = spec1[row, col]\n",
    "                    spec22[row, col] = spec2[row, col]\n",
    "        \n",
    "        TFCT11 = spec11 * np.exp(1J * np.angle(TFCT1))\n",
    "        TFCT12 = spec12 * np.exp(1J * np.angle(TFCT1))\n",
    "        TFCT21 = spec21 * np.exp(1J * np.angle(TFCT2))\n",
    "        TFCT22 = spec22 * np.exp(1J * np.angle(TFCT2))\n",
    "        \n",
    "        return TFCT11, TFCT12, TFCT21, TFCT22    \n",
    "    \n",
    "    def separation(self, T):\n",
    "        TFCT11, TFCT12, TFCT21, TFCT22 = self.Separation2Instru(self[1].TF(),self[2].TF(), T)\n",
    "        channel1 = Channel(None, Channel.RecSon(TFCT11))\n",
    "        channel2 = Channel(None, Channel.RecSon(TFCT12))\n",
    "        channel3 = Channel(None, Channel.RecSon(TFCT21))\n",
    "        channel4 = Channel(None, Channel.RecSon(TFCT22))\n",
    "        return channel1, channel2, channel3, channel4        "
   ]
  },
  {
   "cell_type": "markdown",
   "metadata": {
    "slideshow": {
     "slide_type": "slide"
    }
   },
   "source": [
    "#### Choix du seuil "
   ]
  },
  {
   "cell_type": "markdown",
   "metadata": {
    "slideshow": {
     "slide_type": "subslide"
    }
   },
   "source": [
    "Quel seuil peut-on proposer ici ? Proposer une formule générale en fonction des coefficients du mélange."
   ]
  },
  {
   "cell_type": "markdown",
   "metadata": {
    "slideshow": {
     "slide_type": "slide"
    }
   },
   "source": [
    "Pour déterminer le seuil, nous allons utiliser le fait qu'on connaisse les coefficients de mélanges des deux voies.\n",
    "Supposons qu'on ait :\n",
    "$$V_1=coef_{11}*S_1+coef_{12}*S_2\\text{ et }V_2=coef_{21}*S_1+coef_{22}*S_2$$\n",
    "\n",
    "Puisqu'on suppose que deux instruments ne jouent pas la même note au même moment (la plupart du temps), en effectuant le rapport terme à terme des coefficients des transformées de fouriers des deux voies, si on obtient un rapport égal à $r_1$ ($=\\frac{coef_{11}}{coef_{21}}$), on affecte ce coefficent de fourier à la source S1, et s'il est égal à $r_2$ ($=\\frac{coef_{12}}{coef_{22}}$) on affecte ce coefficent de fourier à la source S2. Ainsi, on peut réaliser une régle de décision pour affecter les coefficients à partir d'un seuil.\n",
    "\n",
    "\n",
    "Le premier seuil auquel on pourrait penser est la moyenne arithmétique des rapports d'intensité $r_1$ et $r_2$. Cependant, la moyenne géométrique s'avère plus pertinente. En effet, on effectue la comparaison  de rapport d'intensité, ainsi en effectuant la moyenne géométrique le résultat obtenu est robuste par inversion si on tombe sur le cas d'un rapport $\\frac{V1}{V2}$ ou $\\frac{V2}{V1}$.Cela  vient du fait que la moyenne géométrique est invariante par l'inverse, ce qui n'est pas le cas pour la moyenne arithmétique.\n",
    "Donc une formule générale en fonction des coefficients du mélange serait :\n",
    "$$ seuil = \\sqrt{\\frac{coef_{11}}{coef_{21}} \\times{} \\frac{coef_{12}}{coef_{22}}}$$"
   ]
  },
  {
   "cell_type": "markdown",
   "metadata": {
    "slideshow": {
     "slide_type": "slide"
    }
   },
   "source": [
    "En appliquant la formule précédente, on obtient dans notre cas :\n",
    "$$\n",
    "\\text{seuil} = \\sqrt{\\frac{\\frac{1}{3}}{\\frac{2}{3}} \\times{} \\frac{\\frac{2}{3}}{\\frac{1}{3}}} = 1\n",
    "$$  "
   ]
  },
  {
   "cell_type": "code",
   "execution_count": null,
   "metadata": {
    "slideshow": {
     "slide_type": "slide"
    }
   },
   "outputs": [],
   "source": [
    "son = Son(r\"./sons/Mix11.wav\", r\"./sons/Mix21.wav\")\n",
    "seuil = 1\n",
    "channels = son.separation(seuil)"
   ]
  },
  {
   "cell_type": "markdown",
   "metadata": {
    "slideshow": {
     "slide_type": "slide"
    }
   },
   "source": [
    "#### Test de la sépartion de source"
   ]
  },
  {
   "cell_type": "markdown",
   "metadata": {
    "slideshow": {
     "slide_type": "slide"
    }
   },
   "source": [
    "Reconstruire ensuite à l'aide du programme RecSon, chacune des voix et écouter chacun des 4 sons produits. \n",
    "Commentez le résultat."
   ]
  },
  {
   "cell_type": "code",
   "execution_count": null,
   "metadata": {
    "slideshow": {
     "slide_type": "slide"
    }
   },
   "outputs": [],
   "source": [
    "son.channels[0].read()\n",
    "son.channels[1].read()\n",
    "channels[0].read(msg=\"Channel 1, source 1\")\n",
    "channels[1].read(msg=\"Channel 1, source 2\")\n",
    "channels[2].read(msg=\"Channel 2, source 1\")\n",
    "channels[3].read(msg=\"Channel 2, source 2\")"
   ]
  },
  {
   "cell_type": "markdown",
   "metadata": {
    "slideshow": {
     "slide_type": "slide"
    }
   },
   "source": [
    "<u>Commentaire</u> :\n",
    "\n",
    "On obtient quatre sons, chacun représentant une source (deux sources dans notre cas) associée à une voie (deux channels dans notre cas). "
   ]
  },
  {
   "cell_type": "markdown",
   "metadata": {
    "slideshow": {
     "slide_type": "slide"
    }
   },
   "source": [
    "## Séparation de trois instruments"
   ]
  },
  {
   "cell_type": "markdown",
   "metadata": {
    "slideshow": {
     "slide_type": "slide"
    }
   },
   "source": [
    "##### Chargement des deux voies avec un mélange de 3 instruments"
   ]
  },
  {
   "cell_type": "markdown",
   "metadata": {
    "slideshow": {
     "slide_type": "slide"
    }
   },
   "source": [
    "Charger les nouvelles voix 1 et 2 à partir des fichiers Mix12.wav et Mix22.wav.\n",
    "    On fait l'hypothèse que chacune des voix est maintenant un mélange instantané de trois instruments \n",
    "$$SV_1= \\frac{2}{5}S_1 + \\frac{1}{5}S_2 + \\frac{4}{5}S_3\\text{ et }V_2= \\frac{3}{5}S_1 + \\frac{4}{5}S_2 + \\frac{1}{5}S_3$$\n"
   ]
  },
  {
   "cell_type": "code",
   "execution_count": null,
   "metadata": {
    "slideshow": {
     "slide_type": "slide"
    }
   },
   "outputs": [],
   "source": [
    "son = Son(r\"./sons/Mix12.wav\", r\"./sons/Mix22.wav\")"
   ]
  },
  {
   "cell_type": "markdown",
   "metadata": {
    "slideshow": {
     "slide_type": "slide"
    }
   },
   "source": [
    "#### Affichage des  spectogrammes des deux voies"
   ]
  },
  {
   "cell_type": "markdown",
   "metadata": {
    "slideshow": {
     "slide_type": "slide"
    }
   },
   "source": [
    "Afficher les spectrogrammes des deux voix et visualiser les traces des trois instruments. "
   ]
  },
  {
   "cell_type": "code",
   "execution_count": null,
   "metadata": {
    "slideshow": {
     "slide_type": "slide"
    }
   },
   "outputs": [],
   "source": [
    "son.spectrograms(zoom=10)"
   ]
  },
  {
   "cell_type": "markdown",
   "metadata": {
    "slideshow": {
     "slide_type": "slide"
    }
   },
   "source": [
    "#### Codage de la fonction de séparation de 3 instruments"
   ]
  },
  {
   "cell_type": "markdown",
   "metadata": {
    "slideshow": {
     "slide_type": "slide"
    }
   },
   "source": [
    "Proposer un programme de séparation Separation3Instru qui prend en entrée deux TFCT, un vecteur $T$ seuil à 2 composantes et qui renvoie 6 TFCT associées aux deux voix de chacun des trois instruments. \n",
    "\n"
   ]
  },
  {
   "cell_type": "code",
   "execution_count": null,
   "metadata": {
    "slideshow": {
     "slide_type": "subslide"
    }
   },
   "outputs": [],
   "source": [
    "class Son(Son):   \n",
    "    \n",
    "    @staticmethod\n",
    "    def Separation3Instru(TFCT1, TFCT2, T1,T2):\n",
    "        if TFCT1.shape != TFCT2.shape:\n",
    "            raise ValueError('Parameters must have same size.')\n",
    "        spec1 = np.abs(TFCT1)\n",
    "        spec2 = np.abs(TFCT2)\n",
    "\n",
    "        spec11 = np.zeros(spec1.shape)\n",
    "        spec12 = np.zeros(spec1.shape)\n",
    "        spec13 = np.zeros(spec1.shape)\n",
    "        spec21 = np.zeros(spec2.shape)\n",
    "        spec22 = np.zeros(spec2.shape)\n",
    "        spec23 = np.zeros(spec2.shape)\n",
    "        for row in range(spec1.shape[0]):\n",
    "            for col in range(spec1.shape[1]):\n",
    "                if spec1[row, col] >= T2 * spec2[row, col]:\n",
    "                    spec13[row, col] = spec1[row, col]\n",
    "                    spec23[row, col] = spec2[row, col]\n",
    "                elif T1< (spec1[row, col]/spec2[row, col])< T2 :\n",
    "                    spec11[row, col] = spec1[row, col]\n",
    "                    spec21[row, col] = spec2[row, col]\n",
    "                else :\n",
    "                    spec12[row, col] = spec1[row, col]\n",
    "                    spec22[row, col] = spec2[row, col]\n",
    "        TFCT11 = spec11 * np.exp(1J * np.angle(TFCT1))\n",
    "        TFCT12 = spec12 * np.exp(1J * np.angle(TFCT1))\n",
    "        TFCT13 = spec13 * np.exp(1J * np.angle(TFCT1))\n",
    "        TFCT21 = spec21 * np.exp(1J * np.angle(TFCT2))\n",
    "        TFCT22 = spec22 * np.exp(1J * np.angle(TFCT2))\n",
    "        TFCT23 = spec23 * np.exp(1J * np.angle(TFCT2))        \n",
    "\n",
    "        return TFCT11, TFCT12, TFCT13,TFCT21, TFCT22,TFCT23\n",
    "    \n",
    "    def separation2(self,T1,T2) :      \n",
    "        TFCT11, TFCT12, TFCT13,TFCT21, TFCT22,TFCT23 = self.Separation3Instru(self.channels[0].TF(),self.channels[1].TF(), T1,T2)\n",
    "        channel1 = Channel(None, Channel.RecSon(TFCT11))\n",
    "        channel2 = Channel(None, Channel.RecSon(TFCT12))\n",
    "        channel3 = Channel(None, Channel.RecSon(TFCT13))\n",
    "        channel4 = Channel(None, Channel.RecSon(TFCT21))\n",
    "        channel5 = Channel(None, Channel.RecSon(TFCT22)) \n",
    "        channel6 = Channel(None, Channel.RecSon(TFCT23)) \n",
    "        return channel1, channel2, channel3, channel4, channel5, channel6 "
   ]
  },
  {
   "cell_type": "markdown",
   "metadata": {
    "slideshow": {
     "slide_type": "slide"
    }
   },
   "source": [
    "##### Codage du programme qui calcul les seuils "
   ]
  },
  {
   "cell_type": "markdown",
   "metadata": {
    "slideshow": {
     "slide_type": "slide"
    }
   },
   "source": [
    "Ecrire un programme CalculSeuil qui prend en entrée 3 rapports d'intensité et qui renvoie deux seuils associés. "
   ]
  },
  {
   "cell_type": "code",
   "execution_count": null,
   "metadata": {
    "slideshow": {
     "slide_type": "subslide"
    }
   },
   "outputs": [],
   "source": [
    "class Son(Son):\n",
    "\n",
    "    @staticmethod\n",
    "    def calculSeuil(r1,r2,r3):\n",
    "        vr = np.array([r1,r2,r3])\n",
    "        vr.sort()\n",
    "        T2 = np.sqrt(vr[2]*vr[1])\n",
    "        T1 = np.sqrt(vr[1]*vr[0])\n",
    "        return T1,T2"
   ]
  },
  {
   "cell_type": "markdown",
   "metadata": {
    "slideshow": {
     "slide_type": "slide"
    }
   },
   "source": [
    "#### Test du programme "
   ]
  },
  {
   "cell_type": "markdown",
   "metadata": {
    "slideshow": {
     "slide_type": "subslide"
    }
   },
   "source": [
    "Tester le programme en utilisant les rapports d'intensités calculés à partir des coefficients de mélange, et commenter.\n",
    "$$SV_1= \\frac{2}{5}S_1 + \\frac{1}{5}S_2 + \\frac{4}{5}S_3\\text{ et }V_2= \\frac{3}{5}S_1 + \\frac{4}{5}S_2 + \\frac{1}{5}S_3$$"
   ]
  },
  {
   "cell_type": "code",
   "execution_count": null,
   "metadata": {
    "slideshow": {
     "slide_type": "subslide"
    }
   },
   "outputs": [],
   "source": [
    "class Son(Son):\n",
    "    \n",
    "    def separation3(self, r1, r2, r3):\n",
    "        T1, T2 = self.calculSeuil(r1, r2, r3)\n",
    "        return self.separation2(T1, T2)"
   ]
  },
  {
   "cell_type": "code",
   "execution_count": null,
   "metadata": {
    "slideshow": {
     "slide_type": "slide"
    }
   },
   "outputs": [],
   "source": [
    "son = Son(r\"./sons/Mix12.wav\", r\"./sons/Mix22.wav\")\n",
    "channels = son.separation3(2.0/3, 1.0/4, 4.0)\n",
    "son.channels[0].read()\n",
    "son.channels[1].read()\n",
    "channels[0].read(msg=\"Channel 1, source 1\")\n",
    "channels[1].read(msg=\"Channel 1, source 2\")\n",
    "channels[2].read(msg=\"Channel 1, source 3\")\n",
    "channels[3].read(msg=\"Channel 2, source 1\")\n",
    "channels[4].read(msg=\"Channel 2, source 2\")\n",
    "channels[5].read(msg=\"Channel 2, source 3\")"
   ]
  },
  {
   "cell_type": "markdown",
   "metadata": {
    "slideshow": {
     "slide_type": "slide"
    }
   },
   "source": [
    "## Estimation des coeffients de mélange"
   ]
  },
  {
   "cell_type": "markdown",
   "metadata": {
    "slideshow": {
     "slide_type": "slide"
    }
   },
   "source": [
    "On suppose dans cette partie qu'on veut effectuer la séparation précédente, sans connaitre les coefficients de mélange. On parle de séparation aveugle. On va donc chercher à estimer ces coefficients de mélange, ou plus précisément des rapports d'intensité des deux voix pour chacun des instruments. L'idée générale est simple : on va calculer un histogramme des rapports d'intensité des modules des TFCT et sélectionner les 3 valeurs les plus réprésentées dans l'histogramme, c'est à dire les troix maxima locaux de l'histogramme. Dans le détail on procède de la manière suivante :\n",
    "\n",
    "1) On construit un tableau ModuleCarre qui va contenir la somme des carrés des modules des TFCT des deux voix.\n",
    "\n",
    "2) On seuille ce tableau de manière à ne conserver que les N= 10% de coefficients les plus importants du tableau.\n",
    "\n",
    "3) On construit une matrice $2\\times N$ qui contient les pairs d'intensité associées des TFCT des deux voix.\n",
    "\n",
    "4) On affiche sur un diagramme 2D les points obtenus (on ne les relie pas, on affiche par exemple des croix).\n",
    "\n",
    "Les points obtenus doivent se répartir approximativement selon des nuages dirigés le long de droites dont les coefficients directeurs sont les rapports d'intensité.\n",
    "\n",
    "5) On calcule un vecteur $R$ de rapports d'intensité (de longueur N).\n",
    "\n",
    "6) On affiche un histogramme de $R$ et un histogramme de $U=\\frac{R}{1+R}$. Vous devriez observer que les maxima de l'histogramme de $U$ sont plus marqués. \n",
    "\n",
    "7) Ecrire un programme qui estime les 3 valeurs des maximas de l'histogramme de U et donc les rapports $R_1$, $R_2$ et $R_3$ associés aux trois isntruments.\n",
    "\n",
    "8) A l'aide du programme précédent, calculer les seuils optimaux et effectuer la séparation.\n",
    "\n",
    "9) Commenter."
   ]
  },
  {
   "cell_type": "code",
   "execution_count": null,
   "metadata": {
    "slideshow": {
     "slide_type": "subslide"
    }
   },
   "outputs": [],
   "source": [
    "def getBestCoef(TFCT1,TFCT2,plot=True):\n",
    "        if TFCT1.shape != TFCT2.shape:\n",
    "            raise ValueError('Parameters must have same size.')\n",
    "        spec1 = np.abs(TFCT1)\n",
    "        spec2 = np.abs(TFCT2)            \n",
    "        # construction du tableau module carré\n",
    "        moduleCarre =  np.abs(TFCT1)**2 + np.abs(TFCT2)**2\n",
    "        mCarre_sorted = np.sort(np.reshape(moduleCarre,-1))[::-1]\n",
    "        n_coef = len(mCarre_sorted)\n",
    "        \n",
    "        (N1,N2)=TFCT1.shape\n",
    "        N = int(n_coef*0.1)\n",
    "        seuil=mCarre_sorted[N-1]\n",
    "        Pint=np.zeros((2,N))\n",
    "        (N1,N2)=TFCT1.shape\n",
    "        k=0\n",
    "        for i in range(N1):\n",
    "            for j in range(N2):\n",
    "                if moduleCarre[i,j]>=seuil:\n",
    "                    Pint[0,k]=spec1[i,j]\n",
    "                    Pint[1,k]=spec2[i,j]\n",
    "                    k+=1\n",
    "        if plot :\n",
    "            plt.scatter(Pint[0,:],Pint[1,:],s=2)\n",
    "            plt.show()\n",
    "        return Pint\n",
    "        \n"
   ]
  },
  {
   "cell_type": "code",
   "execution_count": null,
   "metadata": {
    "slideshow": {
     "slide_type": "slide"
    }
   },
   "outputs": [],
   "source": [
    "# 1) à 3)\n",
    "TFCT1 =son.channels[0].TF()\n",
    "TFCT2 =son.channels[1].TF()\n",
    "spec1_carre = np.abs(TFCT1)**2\n",
    "spec2_carre = np.abs(TFCT2)**2\n",
    "moduleCarre =  spec1_carre + spec2_carre  \n",
    "Pint = getBestCoef(TFCT1,TFCT2)"
   ]
  },
  {
   "cell_type": "code",
   "execution_count": null,
   "metadata": {
    "slideshow": {
     "slide_type": "subslide"
    }
   },
   "outputs": [],
   "source": [
    "def getRapportInt(Pint,plot=True,bins1=1000,bins2=1000) :\n",
    "    R=Pint[0,:]/Pint[1,:]\n",
    "    U = R/(1+R)\n",
    "    if plot :\n",
    "        plt.figure(0)\n",
    "        plt.hist(R,bins=bins1)\n",
    "        plt.show()\n",
    "        plt.figure(1)\n",
    "        plt.hist(U,bins = bins2)\n",
    "        plt.show\n",
    "    return R,U"
   ]
  },
  {
   "cell_type": "code",
   "execution_count": null,
   "metadata": {
    "slideshow": {
     "slide_type": "slide"
    }
   },
   "outputs": [],
   "source": [
    "R,U  = getRapportInt(Pint,bins1=np.linspace(0,6,num=1000),bins2 = 1000)"
   ]
  },
  {
   "cell_type": "code",
   "execution_count": null,
   "metadata": {
    "slideshow": {
     "slide_type": "slide"
    }
   },
   "outputs": [],
   "source": [
    "R,U  = getRapportInt(Pint,bins1=1000,bins2 = 1000)"
   ]
  },
  {
   "cell_type": "code",
   "execution_count": null,
   "metadata": {
    "slideshow": {
     "slide_type": "slide"
    }
   },
   "outputs": [],
   "source": [
    "from sklearn.ensemble import IsolationForest\n",
    "from sklearn.mixture import GaussianMixture\n",
    "def getMaximas(R):\n",
    "    # Retrait des ouliers de notre ensemble R\n",
    "    clf= IsolationForest(contamination=0.4)\n",
    "    yhat = clf.fit_predict(R.reshape(-1, 1))\n",
    "    mask = yhat != -1\n",
    "    R_inliers = R[mask]\n",
    "    # Calcul des maximas par Gaussians Mixture\n",
    "    gm = GaussianMixture(n_components=3, random_state=0).fit(R_inliers.reshape(-1,1))\n",
    "    moyennes = gm.means_[:,0]\n",
    "    return moyennes"
   ]
  },
  {
   "cell_type": "code",
   "execution_count": null,
   "metadata": {
    "slideshow": {
     "slide_type": "slide"
    }
   },
   "outputs": [],
   "source": [
    "moyennes = getMaximas(R)\n",
    "print(moyennes)\n",
    "print([r1,r2,r3])"
   ]
  },
  {
   "cell_type": "code",
   "execution_count": null,
   "metadata": {
    "slideshow": {
     "slide_type": "slide"
    }
   },
   "outputs": [],
   "source": [
    "#moyennes = coeffs\n",
    "T1,T2 = calculSeuil(moyennes[0],moyennes[1],moyennes[2])\n",
    "sons_separes = separation2(son,T1,T2)"
   ]
  },
  {
   "cell_type": "code",
   "execution_count": null,
   "metadata": {
    "slideshow": {
     "slide_type": "subslide"
    }
   },
   "outputs": [],
   "source": [
    "sons_separes[0].read()"
   ]
  },
  {
   "cell_type": "code",
   "execution_count": null,
   "metadata": {
    "slideshow": {
     "slide_type": "subslide"
    }
   },
   "outputs": [],
   "source": [
    "sons_separes[1].read()"
   ]
  },
  {
   "cell_type": "code",
   "execution_count": null,
   "metadata": {
    "slideshow": {
     "slide_type": "subslide"
    }
   },
   "outputs": [],
   "source": [
    "sons_separes[2].read()"
   ]
  },
  {
   "cell_type": "markdown",
   "metadata": {
    "slideshow": {
     "slide_type": "slide"
    }
   },
   "source": [
    "### Partie 5 : Séparation en utilisant des intervalles de confiances ou les valeurs précédentes"
   ]
  },
  {
   "cell_type": "markdown",
   "metadata": {
    "slideshow": {
     "slide_type": "subslide"
    }
   },
   "source": [
    "Dans cette partie, nous allons considérer le cas où certains instrument jouent en même temp la même note. Pour cela, on fait comme précédemment, c'est à dire on regarde le rapport point par point des spectogrammes. Mais on regarde aussi, à qui  a été attribué les n points précédents dans le spectre. Aprés avoir obtenu l'instrument, on lui attribue ce coefficient."
   ]
  },
  {
   "cell_type": "code",
   "execution_count": null,
   "metadata": {
    "slideshow": {
     "slide_type": "subslide"
    }
   },
   "outputs": [],
   "source": [
    "from collections import Counter\n",
    "def Separation3Pred(TFCT1, TFCT2, T1,T2,pred):\n",
    "    if TFCT1.shape != TFCT2.shape:\n",
    "        raise ValueError('Parameters must have same size.')\n",
    "    spec1 = np.abs(TFCT1)\n",
    "    spec2 = np.abs(TFCT2)\n",
    "    pos = np.zeros(spec1.shape)\n",
    "    spec11 = np.zeros(spec1.shape)\n",
    "    spec12 = np.zeros(spec1.shape)\n",
    "    spec13 = np.zeros(spec1.shape)\n",
    "    spec21 = np.zeros(spec2.shape)\n",
    "    spec22 = np.zeros(spec2.shape)\n",
    "    spec23 = np.zeros(spec2.shape)\n",
    "    for row in range(spec1.shape[0]):\n",
    "        for col in range(spec1.shape[1]):\n",
    "            try :\n",
    "                if spec1[row, col] >= T2 * spec2[row, col]:\n",
    "                    #print(\"je suis là\")\n",
    "                    pos[row,col] = 0\n",
    "                    spec13[row, col] = spec1[row, col]\n",
    "                    spec23[row, col] = spec2[row, col]\n",
    "                    occurence = pos[row,col-pred:col]\n",
    "                    if Counter(occurence).most_common(1) == 1 :\n",
    "                        spec11[row, col] = spec1[row, col]\n",
    "                        spec21[row, col] = spec2[row, col]\n",
    "                    elif Counter(occurence).most_common(1) == 2:\n",
    "                        spec12[row, col] = spec1[row, col]\n",
    "                        spec22[row, col] = spec2[row, col]\n",
    "                    else : \n",
    "                        None \n",
    "                elif T1< (spec1[row, col]/spec2[row, col])< T2 :\n",
    "                    pos[row,col] = 1\n",
    "                    spec13[row, col] = spec1[row, col]\n",
    "                    spec23[row, col] = spec2[row, col]\n",
    "                    occurence = pos[row,col-pred:col]\n",
    "                    if Counter(occurence).most_common(1) == 0 :\n",
    "                        spec11[row, col] = spec1[row, col]\n",
    "                        spec21[row, col] = spec2[row, col]\n",
    "                    elif Counter(occurence).most_common(1) == 2:\n",
    "                        spec12[row, col] = spec1[row, col]\n",
    "                        spec22[row, col] = spec2[row, col]\n",
    "                    else : \n",
    "                        None \n",
    "                else :\n",
    "                    pos[row,col] = 2\n",
    "                    spec12[row, col] = spec1[row, col]\n",
    "                    spec22[row, col] = spec2[row, col]\n",
    "                    occurence = pos[row,col-pred:col]\n",
    "                    if Counter(occurence).most_common(1) == 1 :\n",
    "                        spec11[row, col] = spec1[row, col]\n",
    "                        spec21[row, col] = spec2[row, col]\n",
    "                    elif Counter(occurence).most_common(1) == 0:\n",
    "                        spec13[row, col] = spec1[row, col]\n",
    "                        spec23[row, col] = spec2[row, col]\n",
    "                    else : \n",
    "                        None \n",
    "            except :\n",
    "                if spec1[row, col] >= T2 * spec2[row, col]:\n",
    "                    pos[row,col] = 0\n",
    "                    spec13[row, col] = spec1[row, col]\n",
    "                    spec23[row, col] = spec2[row, col]\n",
    "                elif T1< (spec1[row, col]/spec2[row, col])< T2 :\n",
    "                    pos[row,col] = 1\n",
    "                    spec11[row, col] = spec1[row, col]\n",
    "                    spec21[row, col] = spec2[row, col]\n",
    "                else :\n",
    "                    pos[row,col] = 2\n",
    "                    spec12[row, col] = spec1[row, col]\n",
    "                    spec22[row, col] = spec2[row, col]                \n",
    "    TFCT11 = spec11 * np.exp(1J * np.angle(TFCT1))\n",
    "    TFCT12 = spec12 * np.exp(1J * np.angle(TFCT1))\n",
    "    TFCT13 = spec13 * np.exp(1J * np.angle(TFCT1))\n",
    "    TFCT21 = spec21 * np.exp(1J * np.angle(TFCT2))\n",
    "    TFCT22 = spec22 * np.exp(1J * np.angle(TFCT2))\n",
    "    TFCT23 = spec23 * np.exp(1J * np.angle(TFCT2))        \n",
    "\n",
    "    return TFCT11, TFCT12, TFCT13,TFCT21, TFCT22,TFCT23\n",
    "def separation2(son,T1,T2,pred) :      \n",
    "    TFCT11, TFCT12, TFCT13,TFCT21, TFCT22,TFCT23 = Separation3Pred(son.channels[0].TF(),son.channels[1].TF(), T1,T2,pred)\n",
    "    channel1 = Channel(None, Channel.RecSon(TFCT11))\n",
    "    channel2 = Channel(None, Channel.RecSon(TFCT12))\n",
    "    channel3 = Channel(None, Channel.RecSon(TFCT13))\n",
    "    channel4 = Channel(None, Channel.RecSon(TFCT21))\n",
    "    channel5 = Channel(None, Channel.RecSon(TFCT22)) \n",
    "    channel6 = Channel(None, Channel.RecSon(TFCT23)) \n",
    "    return channel1, channel2, channel3, channel4,channel5,channel6 "
   ]
  },
  {
   "cell_type": "code",
   "execution_count": null,
   "metadata": {
    "slideshow": {
     "slide_type": "slide"
    }
   },
   "outputs": [],
   "source": [
    "r1 =2/3\n",
    "r2 =1/4\n",
    "r3 =4.\n",
    "T1,T2 = calculSeuil(r1,r2,r3)\n",
    "pred = 0\n",
    "sons_separes = separation2(son,T1,T2,pred)"
   ]
  },
  {
   "cell_type": "code",
   "execution_count": null,
   "metadata": {
    "slideshow": {
     "slide_type": "slide"
    }
   },
   "outputs": [],
   "source": [
    "sons_separes[2].read()"
   ]
  },
  {
   "cell_type": "markdown",
   "metadata": {
    "slideshow": {
     "slide_type": "slide"
    }
   },
   "source": [
    "Une autre façon de procéder est de considérer des intervalles de confiance. Au lieu de juste utiliser un seuil brute, on considère un intervalle de confiance. "
   ]
  },
  {
   "cell_type": "code",
   "execution_count": null,
   "metadata": {
    "slideshow": {
     "slide_type": "subslide"
    }
   },
   "outputs": [],
   "source": [
    "def Separation3alpha(TFCT1, TFCT2, T1,T2,alpha1,alpha2,alpha3):\n",
    "    if TFCT1.shape != TFCT2.shape:\n",
    "        raise ValueError('Parameters must have same size.')\n",
    "    spec1 = np.abs(TFCT1)\n",
    "    spec2 = np.abs(TFCT2)\n",
    "\n",
    "    spec11 = np.zeros(spec1.shape)\n",
    "    spec12 = np.zeros(spec1.shape)\n",
    "    spec13 = np.zeros(spec1.shape)\n",
    "    spec21 = np.zeros(spec2.shape)\n",
    "    spec22 = np.zeros(spec2.shape)\n",
    "    spec23 = np.zeros(spec2.shape)\n",
    "    for row in range(spec1.shape[0]):\n",
    "        for col in range(spec1.shape[1]):\n",
    "            if spec1[row, col] >= (T2+alpha1) * spec2[row, col]:\n",
    "                spec13[row, col] = spec1[row, col]\n",
    "                spec23[row, col] = spec2[row, col]\n",
    "            elif (T1-alpha2)< (spec1[row, col]/spec2[row, col])< (T2+alpha2) :\n",
    "                spec11[row, col] = spec1[row, col]\n",
    "                spec21[row, col] = spec2[row, col]\n",
    "            elif (T1+alpha3)>= (spec1[row, col]/spec2[row, col]):\n",
    "                spec12[row, col] = spec1[row, col]\n",
    "                spec22[row, col] = spec2[row, col]\n",
    "    TFCT11 = spec11 * np.exp(1J * np.angle(TFCT1))\n",
    "    TFCT12 = spec12 * np.exp(1J * np.angle(TFCT1))\n",
    "    TFCT13 = spec13 * np.exp(1J * np.angle(TFCT1))\n",
    "    TFCT21 = spec21 * np.exp(1J * np.angle(TFCT2))\n",
    "    TFCT22 = spec22 * np.exp(1J * np.angle(TFCT2))\n",
    "    TFCT23 = spec23 * np.exp(1J * np.angle(TFCT2))        \n",
    "\n",
    "    return TFCT11, TFCT12, TFCT13,TFCT21, TFCT22,TFCT23\n",
    "def separation2(son,T1,T2,alpha1,alpha2,alpha3) :      \n",
    "    TFCT11, TFCT12, TFCT13,TFCT21, TFCT22,TFCT23 = Separation3alpha(son.channels[0].TF(),son.channels[1].TF(), T1,T2,alpha1,alpha2,alpha3)\n",
    "    channel1 = Channel(None, Channel.RecSon(TFCT11))\n",
    "    channel2 = Channel(None, Channel.RecSon(TFCT12))\n",
    "    channel3 = Channel(None, Channel.RecSon(TFCT13))\n",
    "    channel4 = Channel(None, Channel.RecSon(TFCT21))\n",
    "    channel5 = Channel(None, Channel.RecSon(TFCT22)) \n",
    "    channel6 = Channel(None, Channel.RecSon(TFCT23)) \n",
    "    return channel1, channel2, channel3, channel4,channel5,channel6 "
   ]
  },
  {
   "cell_type": "code",
   "execution_count": null,
   "metadata": {
    "slideshow": {
     "slide_type": "slide"
    }
   },
   "outputs": [],
   "source": [
    "r1 =2/3\n",
    "r2 =1/4\n",
    "r3 =4.\n",
    "T1,T2 = calculSeuil(r1,r2,r3)\n",
    "alpha1 = 0.01\n",
    "alpha2 = 0.01\n",
    "alpha3 = 0.01\n",
    "sons_separes = separation2(son,T1,T2,alpha1,alpha2,alpha3)"
   ]
  },
  {
   "cell_type": "code",
   "execution_count": null,
   "metadata": {
    "slideshow": {
     "slide_type": "subslide"
    }
   },
   "outputs": [],
   "source": [
    "sons_separes[0].read()"
   ]
  }
 ],
 "metadata": {
  "celltoolbar": "Format de la Cellule Texte Brut",
  "kernelspec": {
   "display_name": "Python 3",
   "language": "python",
   "name": "python3"
  },
  "language_info": {
   "codemirror_mode": {
    "name": "ipython",
    "version": 3
   },
   "file_extension": ".py",
   "mimetype": "text/x-python",
   "name": "python",
   "nbconvert_exporter": "python",
   "pygments_lexer": "ipython3",
   "version": "3.8.10"
  },
  "latex_envs": {
   "LaTeX_envs_menu_present": true,
   "autoclose": false,
   "autocomplete": true,
   "bibliofile": "biblio.bib",
   "cite_by": "apalike",
   "current_citInitial": 1,
   "eqLabelWithNumbers": true,
   "eqNumInitial": 1,
   "hotkeys": {
    "equation": "Ctrl-E",
    "itemize": "Ctrl-I"
   },
   "labels_anchors": false,
   "latex_user_defs": false,
   "report_style_numbering": false,
   "user_envs_cfg": false
  }
 },
 "nbformat": 4,
 "nbformat_minor": 2
}
